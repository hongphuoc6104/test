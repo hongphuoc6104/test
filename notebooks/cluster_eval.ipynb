{
 "cells": [
  {
   "cell_type": "markdown",
   "metadata": {},
   "source": ["# Cluster Evaluation"]
  },
  {
   "cell_type": "code",
   "execution_count": null,
   "metadata": {},
   "outputs": [],
   "source": [
    "import numpy as np\n",
    "import pandas as pd\n",
    "from sklearn.decomposition import PCA\n",
    "from sklearn.manifold import TSNE\n",
    "import matplotlib.pyplot as plt\n",
    "from utils.config_loader import load_config"
   ]
  },
  {
   "cell_type": "code",
   "execution_count": null,
   "metadata": {},
   "outputs": [],
   "source": [
    "cfg = load_config()\n",
    "clusters_path = cfg['storage']['warehouse_clusters']\n",
    "df = pd.read_parquet(clusters_path)\n",
    "X = np.stack(df['track_centroid'].to_numpy())\n",
    "labels = pd.factorize(df['cluster_id'])[0]"
   ]
  },
  {
   "cell_type": "code",
   "execution_count": null,
   "metadata": {},
   "outputs": [],
   "source": [
    "pca = PCA(n_components=2)\n",
    "pca_res = pca.fit_transform(X)\n",
    "plt.figure(figsize=(6,6))\n",
    "plt.scatter(pca_res[:,0], pca_res[:,1], c=labels, s=5, cmap='tab20')\n",
    "plt.title('PCA Scatter of Clusters')\n",
    "plt.show()"
   ]
  },
  {
   "cell_type": "code",
   "execution_count": null,
   "metadata": {},
   "outputs": [],
   "source": [
    "tsne = TSNE(n_components=2, init='pca', learning_rate='auto')\n",
    "tsne_res = tsne.fit_transform(X)\n",
    "plt.figure(figsize=(6,6))\n",
    "plt.scatter(tsne_res[:,0], tsne_res[:,1], c=labels, s=5, cmap='tab20')\n",
    "plt.title('t-SNE Scatter of Clusters')\n",
    "plt.show()"
   ]
  }
 ],
 "metadata": {
  "kernelspec": {
   "display_name": "Python 3",
   "language": "python",
   "name": "python3"
  },
  "language_info": {
   "name": "python"
  }
 },
 "nbformat": 4,
 "nbformat_minor": 5
}